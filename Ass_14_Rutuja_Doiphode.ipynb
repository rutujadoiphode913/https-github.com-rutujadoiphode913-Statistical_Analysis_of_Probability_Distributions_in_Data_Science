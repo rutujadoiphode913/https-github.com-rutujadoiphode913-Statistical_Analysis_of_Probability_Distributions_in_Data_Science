{
 "cells": [
  {
   "cell_type": "code",
   "execution_count": 1,
   "id": "cde2d556",
   "metadata": {},
   "outputs": [],
   "source": [
    "import pandas as pd\n",
    "import numpy as np\n",
    "import matplotlib.pyplot as plt\n",
    "from scipy.stats import binom\n"
   ]
  },
  {
   "cell_type": "code",
   "execution_count": 2,
   "id": "66033273",
   "metadata": {},
   "outputs": [
    {
     "data": {
      "text/html": [
       "<div>\n",
       "<style scoped>\n",
       "    .dataframe tbody tr th:only-of-type {\n",
       "        vertical-align: middle;\n",
       "    }\n",
       "\n",
       "    .dataframe tbody tr th {\n",
       "        vertical-align: top;\n",
       "    }\n",
       "\n",
       "    .dataframe thead th {\n",
       "        text-align: right;\n",
       "    }\n",
       "</style>\n",
       "<table border=\"1\" class=\"dataframe\">\n",
       "  <thead>\n",
       "    <tr style=\"text-align: right;\">\n",
       "      <th></th>\n",
       "      <th>Quality Check Outcome</th>\n",
       "    </tr>\n",
       "  </thead>\n",
       "  <tbody>\n",
       "    <tr>\n",
       "      <th>0</th>\n",
       "      <td>Non-Defective</td>\n",
       "    </tr>\n",
       "    <tr>\n",
       "      <th>1</th>\n",
       "      <td>Defective</td>\n",
       "    </tr>\n",
       "    <tr>\n",
       "      <th>2</th>\n",
       "      <td>Non-Defective</td>\n",
       "    </tr>\n",
       "    <tr>\n",
       "      <th>3</th>\n",
       "      <td>Non-Defective</td>\n",
       "    </tr>\n",
       "    <tr>\n",
       "      <th>4</th>\n",
       "      <td>Non-Defective</td>\n",
       "    </tr>\n",
       "  </tbody>\n",
       "</table>\n",
       "</div>"
      ],
      "text/plain": [
       "  Quality Check Outcome\n",
       "0         Non-Defective\n",
       "1             Defective\n",
       "2         Non-Defective\n",
       "3         Non-Defective\n",
       "4         Non-Defective"
      ]
     },
     "execution_count": 2,
     "metadata": {},
     "output_type": "execute_result"
    }
   ],
   "source": [
    "# Generating the dataset using Binomial Distribution\n",
    "np.random.seed(42)\n",
    "n = 100 # Total products\n",
    "p = 0.1 # Probability of a product being defective\n",
    "data = np.random.binomial(1, p, n)\n",
    "outcome_map = {1: 'Defective', 0: 'Non-Defective'}\n",
    "data = [outcome_map[i] for i in data]\n",
    "df = pd.DataFrame(data, columns=['Quality Check Outcome'])\n",
    "# Display the first few rows of the dataframe\n",
    "df.head()\n"
   ]
  },
  {
   "cell_type": "code",
   "execution_count": 3,
   "id": "44fb9cd1",
   "metadata": {},
   "outputs": [
    {
     "data": {
      "text/html": [
       "<div>\n",
       "<style scoped>\n",
       "    .dataframe tbody tr th:only-of-type {\n",
       "        vertical-align: middle;\n",
       "    }\n",
       "\n",
       "    .dataframe tbody tr th {\n",
       "        vertical-align: top;\n",
       "    }\n",
       "\n",
       "    .dataframe thead th {\n",
       "        text-align: right;\n",
       "    }\n",
       "</style>\n",
       "<table border=\"1\" class=\"dataframe\">\n",
       "  <thead>\n",
       "    <tr style=\"text-align: right;\">\n",
       "      <th></th>\n",
       "      <th>Quality Check Outcome</th>\n",
       "    </tr>\n",
       "  </thead>\n",
       "  <tbody>\n",
       "    <tr>\n",
       "      <th>count</th>\n",
       "      <td>100</td>\n",
       "    </tr>\n",
       "    <tr>\n",
       "      <th>unique</th>\n",
       "      <td>2</td>\n",
       "    </tr>\n",
       "    <tr>\n",
       "      <th>top</th>\n",
       "      <td>Non-Defective</td>\n",
       "    </tr>\n",
       "    <tr>\n",
       "      <th>freq</th>\n",
       "      <td>91</td>\n",
       "    </tr>\n",
       "  </tbody>\n",
       "</table>\n",
       "</div>"
      ],
      "text/plain": [
       "       Quality Check Outcome\n",
       "count                    100\n",
       "unique                     2\n",
       "top            Non-Defective\n",
       "freq                      91"
      ]
     },
     "execution_count": 3,
     "metadata": {},
     "output_type": "execute_result"
    }
   ],
   "source": [
    "df.describe()"
   ]
  },
  {
   "cell_type": "code",
   "execution_count": 6,
   "id": "5495117b",
   "metadata": {},
   "outputs": [
    {
     "name": "stdout",
     "output_type": "stream",
     "text": [
      "Number of Defective Products: 9\n",
      "Number of Non-Defective Products: 91\n",
      "Percentage of Defective Products: 9.00%\n"
     ]
    }
   ],
   "source": [
    "# Display count of Defective & Non-Defective products\n",
    "def_count = df[df['Quality Check Outcome'] == 'Defective'].shape[0]\n",
    "non_def_count = df[df['Quality Check Outcome'] == 'Non-Defective'].shape[0]\n",
    "print(f\"Number of Defective Products: {def_count}\")\n",
    "print(f\"Number of Non-Defective Products: {non_def_count}\")\n",
    "\n",
    "# Interpretation based on counts\n",
    "total_products = len(df)\n",
    "def_percentage = (def_count / total_products) * 100\n",
    "\n",
    "print(f\"Percentage of Defective Products: {def_percentage:.2f}%\")\n"
   ]
  },
  {
   "cell_type": "code",
   "execution_count": 10,
   "id": "77c2cc41",
   "metadata": {},
   "outputs": [
    {
     "data": {
      "image/png": "[encoded data removed]",
      "text/plain": [
       "<Figure size 216x288 with 1 Axes>"
      ]
     },
     "metadata": {
      "needs_background": "light"
     },
     "output_type": "display_data"
    }
   ],
   "source": [
    "# Visualizing the distribution of Defective and Non-Defective products\n",
    "plt.figure(figsize=(3,4))\n",
    "plt.bar(['Defective', 'Non-Defective'], [def_count, non_def_count], color= 'orange')\n",
    "plt.title('Defective and Non-Defective Distributions')\n",
    "plt.xlabel('Type of product')\n",
    "plt.ylabel('Count')\n",
    "plt.grid(True)\n",
    "plt.show()\n"
   ]
  },
  {
   "cell_type": "code",
   "execution_count": 11,
   "id": "500c991d",
   "metadata": {},
   "outputs": [
    {
     "name": "stdout",
     "output_type": "stream",
     "text": [
      "Estimated probability of a product being defective (p): 0.0900\n",
      "Probability of more than 10 defective products out of the next 50: 0.0043\n"
     ]
    }
   ],
   "source": [
    "# Estimating p (Probability of Defective Product)\n",
    "probability_def = df[df['Quality Check Outcome'] == 'Defective'].count()[0] /len(df)\n",
    "print(f\"Estimated probability of a product being defective (p): {probability_def:.4f}\")\n",
    "# Probability of more than 10 defective products out of the next 50 using binomial distribution\n",
    "extra= 50\n",
    "more_than_10_def= 1 - binom.cdf(10, extra, probability_def)\n",
    "print(f\"Probability of more than 10 defective products out of the next 50: {more_than_10_def:.4f}\")\n"
   ]
  },
  {
   "cell_type": "markdown",
   "id": "a657969b",
   "metadata": {},
   "source": [
    "Visualisation: Display of a Bar Chart: The code generates a bar chart that depicts the number of defective and non-defective items. This visualisation provides a graphical depiction of the distribution, making the ratio of faulty\n",
    "to non-defective items easier to understand.\n",
    "Probability of Defective Product Estimation (p): Based on the proportion of defective items in the given dataset, it computes the estimated probability 'p' of a product being defective.This predicted 'p' value offers information on\n",
    "the likelihood of encountering defective items in this manufacturing line.\n",
    "Probability Calculation for Future Defective Products: The code determines the likelihood of having more than 10 defective products out of the following 50 items using the estimated 'p' value."
   ]
  },
  {
   "cell_type": "markdown",
   "id": "07b9fcfd",
   "metadata": {},
   "source": [
    "Q2"
   ]
  },
  {
   "cell_type": "code",
   "execution_count": 12,
   "id": "99b82004",
   "metadata": {},
   "outputs": [],
   "source": [
    "# Importing necessary libraries\n",
    "import pandas as pd\n",
    "import numpy as np\n",
    "import matplotlib.pyplot as plt\n",
    "from scipy.stats import poisson\n"
   ]
  },
  {
   "cell_type": "code",
   "execution_count": 13,
   "id": "774e1bdb",
   "metadata": {},
   "outputs": [
    {
     "data": {
      "text/html": [
       "<div>\n",
       "<style scoped>\n",
       "    .dataframe tbody tr th:only-of-type {\n",
       "        vertical-align: middle;\n",
       "    }\n",
       "\n",
       "    .dataframe tbody tr th {\n",
       "        vertical-align: top;\n",
       "    }\n",
       "\n",
       "    .dataframe thead th {\n",
       "        text-align: right;\n",
       "    }\n",
       "</style>\n",
       "<table border=\"1\" class=\"dataframe\">\n",
       "  <thead>\n",
       "    <tr style=\"text-align: right;\">\n",
       "      <th></th>\n",
       "      <th>Hour</th>\n",
       "      <th>Number of Customers</th>\n",
       "    </tr>\n",
       "  </thead>\n",
       "  <tbody>\n",
       "    <tr>\n",
       "      <th>0</th>\n",
       "      <td>1</td>\n",
       "      <td>5</td>\n",
       "    </tr>\n",
       "    <tr>\n",
       "      <th>1</th>\n",
       "      <td>2</td>\n",
       "      <td>4</td>\n",
       "    </tr>\n",
       "    <tr>\n",
       "      <th>2</th>\n",
       "      <td>3</td>\n",
       "      <td>4</td>\n",
       "    </tr>\n",
       "    <tr>\n",
       "      <th>3</th>\n",
       "      <td>4</td>\n",
       "      <td>5</td>\n",
       "    </tr>\n",
       "    <tr>\n",
       "      <th>4</th>\n",
       "      <td>5</td>\n",
       "      <td>5</td>\n",
       "    </tr>\n",
       "  </tbody>\n",
       "</table>\n",
       "</div>"
      ],
      "text/plain": [
       "   Hour  Number of Customers\n",
       "0     1                    5\n",
       "1     2                    4\n",
       "2     3                    4\n",
       "3     4                    5\n",
       "4     5                    5"
      ]
     },
     "execution_count": 13,
     "metadata": {},
     "output_type": "execute_result"
    }
   ],
   "source": [
    "# Generating the dataset using Poisson Distribution\n",
    "np.random.seed(42)\n",
    "lambda_value = 5 # Average number of customers arriving per hour\n",
    "hours = list(range(1, 25))\n",
    "data = np.random.poisson(lambda_value, 24)\n",
    "df = pd.DataFrame({'Hour': hours, 'Number of Customers': data})\n",
    "# Display the first few rows of the dataframe\n",
    "df.head()\n"
   ]
  },
  {
   "cell_type": "code",
   "execution_count": 14,
   "id": "51bc4b7f",
   "metadata": {},
   "outputs": [
    {
     "data": {
      "text/html": [
       "<div>\n",
       "<style scoped>\n",
       "    .dataframe tbody tr th:only-of-type {\n",
       "        vertical-align: middle;\n",
       "    }\n",
       "\n",
       "    .dataframe tbody tr th {\n",
       "        vertical-align: top;\n",
       "    }\n",
       "\n",
       "    .dataframe thead th {\n",
       "        text-align: right;\n",
       "    }\n",
       "</style>\n",
       "<table border=\"1\" class=\"dataframe\">\n",
       "  <thead>\n",
       "    <tr style=\"text-align: right;\">\n",
       "      <th></th>\n",
       "      <th>Hour</th>\n",
       "      <th>Number of Customers</th>\n",
       "    </tr>\n",
       "  </thead>\n",
       "  <tbody>\n",
       "    <tr>\n",
       "      <th>count</th>\n",
       "      <td>24.000000</td>\n",
       "      <td>24.000000</td>\n",
       "    </tr>\n",
       "    <tr>\n",
       "      <th>mean</th>\n",
       "      <td>12.500000</td>\n",
       "      <td>4.916667</td>\n",
       "    </tr>\n",
       "    <tr>\n",
       "      <th>std</th>\n",
       "      <td>7.071068</td>\n",
       "      <td>2.124734</td>\n",
       "    </tr>\n",
       "    <tr>\n",
       "      <th>min</th>\n",
       "      <td>1.000000</td>\n",
       "      <td>1.000000</td>\n",
       "    </tr>\n",
       "    <tr>\n",
       "      <th>25%</th>\n",
       "      <td>6.750000</td>\n",
       "      <td>4.000000</td>\n",
       "    </tr>\n",
       "    <tr>\n",
       "      <th>50%</th>\n",
       "      <td>12.500000</td>\n",
       "      <td>5.000000</td>\n",
       "    </tr>\n",
       "    <tr>\n",
       "      <th>75%</th>\n",
       "      <td>18.250000</td>\n",
       "      <td>6.000000</td>\n",
       "    </tr>\n",
       "    <tr>\n",
       "      <th>max</th>\n",
       "      <td>24.000000</td>\n",
       "      <td>11.000000</td>\n",
       "    </tr>\n",
       "  </tbody>\n",
       "</table>\n",
       "</div>"
      ],
      "text/plain": [
       "            Hour  Number of Customers\n",
       "count  24.000000            24.000000\n",
       "mean   12.500000             4.916667\n",
       "std     7.071068             2.124734\n",
       "min     1.000000             1.000000\n",
       "25%     6.750000             4.000000\n",
       "50%    12.500000             5.000000\n",
       "75%    18.250000             6.000000\n",
       "max    24.000000            11.000000"
      ]
     },
     "execution_count": 14,
     "metadata": {},
     "output_type": "execute_result"
    }
   ],
   "source": [
    "df.describe()\n"
   ]
  },
  {
   "cell_type": "code",
   "execution_count": 15,
   "id": "0948673b",
   "metadata": {},
   "outputs": [
    {
     "data": {
      "image/png": "[encoded data removed]",
      "text/plain": [
       "<Figure size 288x216 with 1 Axes>"
      ]
     },
     "metadata": {
      "needs_background": "light"
     },
     "output_type": "display_data"
    }
   ],
   "source": [
    "\n",
    "plt.figure(figsize=(4,3))\n",
    "plt.hist(df['Number of Customers'], bins=15, alpha=0.7, color='brown')\n",
    "plt.xlabel('Customers')\n",
    "plt.ylabel('Frequency')\n",
    "plt.title('Distribution of Customer Arrivals in Different Hours')\n",
    "plt.grid()\n",
    "plt.show()\n"
   ]
  },
  {
   "cell_type": "code",
   "execution_count": 17,
   "id": "cd51862f",
   "metadata": {},
   "outputs": [
    {
     "name": "stdout",
     "output_type": "stream",
     "text": [
      "Estimated average rate of customer arrivals per hour is (λ): 4.9167\n",
      "Probability of more than 10 customers arriving in a given hour: 0.0122\n"
     ]
    }
   ],
   "source": [
    "from scipy.stats import poisson\n",
    "\n",
    "# Estimating the average rate of customer arrivals per hour\n",
    "est_lambda = df['Number of Customers'].mean()\n",
    "print(f\"Estimated average rate of customer arrivals per hour is (λ): {est_lambda:.4f}\")\n",
    "\n",
    "# Calculating the probability of more than 10 customers arriving in a given hour\n",
    "ten_plus = 1 - poisson.cdf(10, est_lambda)\n",
    "print(f\"Probability of more than 10 customers arriving in a given hour: {ten_plus:.4f}\")\n"
   ]
  },
  {
   "cell_type": "markdown",
   "id": "0764e1a3",
   "metadata": {},
   "source": [
    "Estimation of Average Arrival Rate (\\(\\lambda\\)): This function calculates the estimated average rate of customer arrivals per hour. Derived from observed data, this value represents the anticipated number of customers arriving within a specific hour.\n",
    "\n",
    "Probability of Exceeding Ten Customer Arrivals: Utilizing the estimated average rate (\\(\\lambda\\)), the code assesses the probability of more than ten customers arriving in a given hour. This probability offers insights into the likelihood of encountering elevated customer traffic during specific hours.\n",
    "\n",
    "Conclusions and Implications:\n",
    "\n",
    "Arrival Patterns: The histogram visualization assists in identifying peak hours or periods characterized by heightened customer activity, enabling effective scheduling of staff and resources.\n",
    "\n",
    "Average Arrival Rate: The estimated average rate (\\(\\lambda\\)) signifies the expected number of customers per hour on average. This information is valuable for forecasting and strategic planning.\n",
    "\n",
    "Probability Analysis: Calculating the likelihood of surpassing ten customer arrivals provides valuable insights for service capacity planning and resource allocation, particularly during busy periods.\n",
    "\n",
    "Conclusion:\n",
    "\n",
    "The Poisson distribution analysis of customer arrivals per hour yields valuable insights into variability, central tendencies, and the potential for increased customer counts during different hours."
   ]
  },
  {
   "cell_type": "markdown",
   "id": "eba82d96",
   "metadata": {},
   "source": [
    "Q3"
   ]
  },
  {
   "cell_type": "code",
   "execution_count": 18,
   "id": "90f723d2",
   "metadata": {},
   "outputs": [],
   "source": [
    "# Importing necessary libraries\n",
    "import pandas as pd\n",
    "import numpy as np\n",
    "import matplotlib.pyplot as plt\n",
    "from scipy.stats import expon\n"
   ]
  },
  {
   "cell_type": "code",
   "execution_count": 19,
   "id": "61e4f44b",
   "metadata": {},
   "outputs": [
    {
     "data": {
      "text/html": [
       "<div>\n",
       "<style scoped>\n",
       "    .dataframe tbody tr th:only-of-type {\n",
       "        vertical-align: middle;\n",
       "    }\n",
       "\n",
       "    .dataframe tbody tr th {\n",
       "        vertical-align: top;\n",
       "    }\n",
       "\n",
       "    .dataframe thead th {\n",
       "        text-align: right;\n",
       "    }\n",
       "</style>\n",
       "<table border=\"1\" class=\"dataframe\">\n",
       "  <thead>\n",
       "    <tr style=\"text-align: right;\">\n",
       "      <th></th>\n",
       "      <th>Time Between Requests (minutes)</th>\n",
       "    </tr>\n",
       "  </thead>\n",
       "  <tbody>\n",
       "    <tr>\n",
       "      <th>0</th>\n",
       "      <td>0.234634</td>\n",
       "    </tr>\n",
       "    <tr>\n",
       "      <th>1</th>\n",
       "      <td>1.505061</td>\n",
       "    </tr>\n",
       "    <tr>\n",
       "      <th>2</th>\n",
       "      <td>0.658373</td>\n",
       "    </tr>\n",
       "    <tr>\n",
       "      <th>3</th>\n",
       "      <td>0.456471</td>\n",
       "    </tr>\n",
       "    <tr>\n",
       "      <th>4</th>\n",
       "      <td>0.084812</td>\n",
       "    </tr>\n",
       "  </tbody>\n",
       "</table>\n",
       "</div>"
      ],
      "text/plain": [
       "   Time Between Requests (minutes)\n",
       "0                         0.234634\n",
       "1                         1.505061\n",
       "2                         0.658373\n",
       "3                         0.456471\n",
       "4                         0.084812"
      ]
     },
     "execution_count": 19,
     "metadata": {},
     "output_type": "execute_result"
    }
   ],
   "source": [
    "# Generating the dataset using Exponential Distribution\n",
    "np.random.seed(42)\n",
    "lambda_value = 2 # Average number of requests per minute\n",
    "data = np.random.exponential(1/lambda_value, 1000)\n",
    "df = pd.DataFrame(data, columns=['Time Between Requests (minutes)'])\n",
    "# Display the first few rows of the dataframe\n",
    "df.head()\n"
   ]
  },
  {
   "cell_type": "code",
   "execution_count": 20,
   "id": "02063e9f",
   "metadata": {},
   "outputs": [],
   "source": [
    "#The distribution of time intervals between consecutive server requests appears to follow an exponential distribution. It suggests that shorter intervals between requests are more common than longer intervals, which aligns with the nature of high-traffic websites where requests arrive more frequently.\n"
   ]
  },
  {
   "cell_type": "code",
   "execution_count": 21,
   "id": "77baba78",
   "metadata": {},
   "outputs": [
    {
     "data": {
      "image/png": "[encoded data removed]",
      "text/plain": [
       "<Figure size 576x432 with 1 Axes>"
      ]
     },
     "metadata": {
      "needs_background": "light"
     },
     "output_type": "display_data"
    }
   ],
   "source": [
    "# Plotting a histogram to visualize the distribution of time intervals\n",
    "plt.figure(figsize=(8, 6))\n",
    "plt.hist(df['Time Between Requests (minutes)'], bins=30, density=True, alpha=0.9, color= 'green')\n",
    "plt.title('Distribution of Time Intervals ')\n",
    "plt.xlabel('Time Between Requests (minutes)')\n",
    "plt.ylabel('Frequency')\n",
    "plt.grid(True)\n",
    "plt.show()\n"
   ]
  },
  {
   "cell_type": "code",
   "execution_count": 22,
   "id": "d6e8e79f",
   "metadata": {},
   "outputs": [
    {
     "name": "stdout",
     "output_type": "stream",
     "text": [
      "Estimated rate parameter (λ): 2.0565426917795255\n",
      "Probability of time between requests exceeding 2 minutes: 0.016357228265927268\n",
      "Time by which 90% of requests would have arrived post a previous request: 1.1196388493163834\n"
     ]
    }
   ],
   "source": [
    "# Estimate the rate parameter (λ) of the Exponential Distribution\n",
    "rate_parameter = 1 / df.mean().values[0]\n",
    "# Calculate the probability that the time between two consecutive requests will exceed 2 minutes\n",
    "prob_exceed_2_minutes = expon.sf(2, scale=1/rate_parameter)\n",
    "# Determine the time by which 90% of the requests would have already arrived post a previous request\n",
    "time_for_90_percent = expon.ppf(0.9, scale=1/rate_parameter)\n",
    "print(\"Estimated rate parameter (λ):\", rate_parameter)\n",
    "print(\"Probability of time between requests exceeding 2 minutes:\", prob_exceed_2_minutes)\n",
    "print(\"Time by which 90% of requests would have arrived post a previous request:\", time_for_90_percent)\n"
   ]
  },
  {
   "cell_type": "markdown",
   "id": "d471d596",
   "metadata": {},
   "source": [
    "Estimated Rate Parameter (\\(\\lambda\\)): The rate parameter of the exponential distribution, denoted as \\(\\lambda\\), is estimated as the inverse of the sample mean of the dataset. This parameter signifies the average arrival rate of requests per unit of time, indicating the rate at which server requests are typically received. A higher \\(\\lambda\\) suggests a greater request arrival rate.\n",
    "\n",
    "Probability of Exceeding 2 Minutes between Requests: The estimated probability reflects the likelihood that the time interval between two consecutive server requests will exceed 2 minutes. This probability is derived from the fitted exponential distribution and provides insights into the occurrence of longer intervals between requests.\n",
    "\n",
    "Time for 90% of Requests to Arrive after a Previous Request: This metric illustrates the time span within which 90% of subsequent requests are expected to arrive after a previous request. It highlights the time range during which the majority of requests occur, emphasizing the frequent occurrence of requests within a relatively short time period."
   ]
  },
  {
   "cell_type": "code",
   "execution_count": null,
   "id": "e35e366f",
   "metadata": {},
   "outputs": [],
   "source": []
  }
 ],
 "metadata": {
  "kernelspec": {
   "display_name": "Python 3",
   "language": "python",
   "name": "python3"
  },
  "language_info": {
   "codemirror_mode": {
    "name": "ipython",
    "version": 3
   },
   "file_extension": ".py",
   "mimetype": "text/x-python",
   "name": "python",
   "nbconvert_exporter": "python",
   "pygments_lexer": "ipython3",
   "version": "3.8.8"
  }
 },
 "nbformat": 4,
 "nbformat_minor": 5
}
